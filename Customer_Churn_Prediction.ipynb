{
 "cells": [
  {
   "cell_type": "markdown",
   "metadata": {},
   "source": [
    "## Problem Statement:\n",
    "\n",
    "* Customer churn is when a company’s customers stop doing business with that company.Existing customers will often have a higher volume of service consumption and can generate additional customer referrals.\n",
    "\n",
    "* Customer retention can be achieved with good customer service and products. But the most effective way for a company to prevent attrition of customers is to truly know them.\n",
    "\n",
    "* Preventing customer churn is critically important to the telecommunications sector, as the barriers to entry for switching services are so low.\n",
    "\n",
    "* So here we need to predict whether customer is churned or not and that's our target variable."
   ]
  },
  {
   "cell_type": "markdown",
   "metadata": {},
   "source": [
    "Importing the required libraries for this dataset / project,"
   ]
  },
  {
   "cell_type": "code",
   "execution_count": 1,
   "metadata": {},
   "outputs": [],
   "source": [
    "import pandas as pd\n",
    "import numpy as np\n",
    "from sklearn.preprocessing import StandardScaler, LabelEncoder\n",
    "from sklearn.model_selection import train_test_split, GridSearchCV,cross_val_score\n",
    "from sklearn.metrics import confusion_matrix,classification_report,roc_auc_score,roc_curve,f1_score,accuracy_score\n",
    "import seaborn as sns\n",
    "import matplotlib.pyplot as plt\n",
    "\n",
    "import warnings\n",
    "warnings.filterwarnings(\"ignore\")"
   ]
  },
  {
   "cell_type": "markdown",
   "metadata": {},
   "source": [
    "Loading the dataset"
   ]
  },
  {
   "cell_type": "code",
   "execution_count": 2,
   "metadata": {},
   "outputs": [
    {
     "data": {
      "text/html": [
       "<div>\n",
       "<style scoped>\n",
       "    .dataframe tbody tr th:only-of-type {\n",
       "        vertical-align: middle;\n",
       "    }\n",
       "\n",
       "    .dataframe tbody tr th {\n",
       "        vertical-align: top;\n",
       "    }\n",
       "\n",
       "    .dataframe thead th {\n",
       "        text-align: right;\n",
       "    }\n",
       "</style>\n",
       "<table border=\"1\" class=\"dataframe\">\n",
       "  <thead>\n",
       "    <tr style=\"text-align: right;\">\n",
       "      <th></th>\n",
       "      <th>customerID</th>\n",
       "      <th>gender</th>\n",
       "      <th>SeniorCitizen</th>\n",
       "      <th>Partner</th>\n",
       "      <th>Dependents</th>\n",
       "      <th>tenure</th>\n",
       "      <th>PhoneService</th>\n",
       "      <th>MultipleLines</th>\n",
       "      <th>InternetService</th>\n",
       "      <th>OnlineSecurity</th>\n",
       "      <th>...</th>\n",
       "      <th>DeviceProtection</th>\n",
       "      <th>TechSupport</th>\n",
       "      <th>StreamingTV</th>\n",
       "      <th>StreamingMovies</th>\n",
       "      <th>Contract</th>\n",
       "      <th>PaperlessBilling</th>\n",
       "      <th>PaymentMethod</th>\n",
       "      <th>MonthlyCharges</th>\n",
       "      <th>TotalCharges</th>\n",
       "      <th>Churn</th>\n",
       "    </tr>\n",
       "  </thead>\n",
       "  <tbody>\n",
       "    <tr>\n",
       "      <th>0</th>\n",
       "      <td>7590-VHVEG</td>\n",
       "      <td>Female</td>\n",
       "      <td>0</td>\n",
       "      <td>Yes</td>\n",
       "      <td>No</td>\n",
       "      <td>1</td>\n",
       "      <td>No</td>\n",
       "      <td>No phone service</td>\n",
       "      <td>DSL</td>\n",
       "      <td>No</td>\n",
       "      <td>...</td>\n",
       "      <td>No</td>\n",
       "      <td>No</td>\n",
       "      <td>No</td>\n",
       "      <td>No</td>\n",
       "      <td>Month-to-month</td>\n",
       "      <td>Yes</td>\n",
       "      <td>Electronic check</td>\n",
       "      <td>29.85</td>\n",
       "      <td>29.85</td>\n",
       "      <td>No</td>\n",
       "    </tr>\n",
       "    <tr>\n",
       "      <th>1</th>\n",
       "      <td>5575-GNVDE</td>\n",
       "      <td>Male</td>\n",
       "      <td>0</td>\n",
       "      <td>No</td>\n",
       "      <td>No</td>\n",
       "      <td>34</td>\n",
       "      <td>Yes</td>\n",
       "      <td>No</td>\n",
       "      <td>DSL</td>\n",
       "      <td>Yes</td>\n",
       "      <td>...</td>\n",
       "      <td>Yes</td>\n",
       "      <td>No</td>\n",
       "      <td>No</td>\n",
       "      <td>No</td>\n",
       "      <td>One year</td>\n",
       "      <td>No</td>\n",
       "      <td>Mailed check</td>\n",
       "      <td>56.95</td>\n",
       "      <td>1889.5</td>\n",
       "      <td>No</td>\n",
       "    </tr>\n",
       "    <tr>\n",
       "      <th>2</th>\n",
       "      <td>3668-QPYBK</td>\n",
       "      <td>Male</td>\n",
       "      <td>0</td>\n",
       "      <td>No</td>\n",
       "      <td>No</td>\n",
       "      <td>2</td>\n",
       "      <td>Yes</td>\n",
       "      <td>No</td>\n",
       "      <td>DSL</td>\n",
       "      <td>Yes</td>\n",
       "      <td>...</td>\n",
       "      <td>No</td>\n",
       "      <td>No</td>\n",
       "      <td>No</td>\n",
       "      <td>No</td>\n",
       "      <td>Month-to-month</td>\n",
       "      <td>Yes</td>\n",
       "      <td>Mailed check</td>\n",
       "      <td>53.85</td>\n",
       "      <td>108.15</td>\n",
       "      <td>Yes</td>\n",
       "    </tr>\n",
       "    <tr>\n",
       "      <th>3</th>\n",
       "      <td>7795-CFOCW</td>\n",
       "      <td>Male</td>\n",
       "      <td>0</td>\n",
       "      <td>No</td>\n",
       "      <td>No</td>\n",
       "      <td>45</td>\n",
       "      <td>No</td>\n",
       "      <td>No phone service</td>\n",
       "      <td>DSL</td>\n",
       "      <td>Yes</td>\n",
       "      <td>...</td>\n",
       "      <td>Yes</td>\n",
       "      <td>Yes</td>\n",
       "      <td>No</td>\n",
       "      <td>No</td>\n",
       "      <td>One year</td>\n",
       "      <td>No</td>\n",
       "      <td>Bank transfer (automatic)</td>\n",
       "      <td>42.30</td>\n",
       "      <td>1840.75</td>\n",
       "      <td>No</td>\n",
       "    </tr>\n",
       "    <tr>\n",
       "      <th>4</th>\n",
       "      <td>9237-HQITU</td>\n",
       "      <td>Female</td>\n",
       "      <td>0</td>\n",
       "      <td>No</td>\n",
       "      <td>No</td>\n",
       "      <td>2</td>\n",
       "      <td>Yes</td>\n",
       "      <td>No</td>\n",
       "      <td>Fiber optic</td>\n",
       "      <td>No</td>\n",
       "      <td>...</td>\n",
       "      <td>No</td>\n",
       "      <td>No</td>\n",
       "      <td>No</td>\n",
       "      <td>No</td>\n",
       "      <td>Month-to-month</td>\n",
       "      <td>Yes</td>\n",
       "      <td>Electronic check</td>\n",
       "      <td>70.70</td>\n",
       "      <td>151.65</td>\n",
       "      <td>Yes</td>\n",
       "    </tr>\n",
       "    <tr>\n",
       "      <th>...</th>\n",
       "      <td>...</td>\n",
       "      <td>...</td>\n",
       "      <td>...</td>\n",
       "      <td>...</td>\n",
       "      <td>...</td>\n",
       "      <td>...</td>\n",
       "      <td>...</td>\n",
       "      <td>...</td>\n",
       "      <td>...</td>\n",
       "      <td>...</td>\n",
       "      <td>...</td>\n",
       "      <td>...</td>\n",
       "      <td>...</td>\n",
       "      <td>...</td>\n",
       "      <td>...</td>\n",
       "      <td>...</td>\n",
       "      <td>...</td>\n",
       "      <td>...</td>\n",
       "      <td>...</td>\n",
       "      <td>...</td>\n",
       "      <td>...</td>\n",
       "    </tr>\n",
       "    <tr>\n",
       "      <th>7038</th>\n",
       "      <td>6840-RESVB</td>\n",
       "      <td>Male</td>\n",
       "      <td>0</td>\n",
       "      <td>Yes</td>\n",
       "      <td>Yes</td>\n",
       "      <td>24</td>\n",
       "      <td>Yes</td>\n",
       "      <td>Yes</td>\n",
       "      <td>DSL</td>\n",
       "      <td>Yes</td>\n",
       "      <td>...</td>\n",
       "      <td>Yes</td>\n",
       "      <td>Yes</td>\n",
       "      <td>Yes</td>\n",
       "      <td>Yes</td>\n",
       "      <td>One year</td>\n",
       "      <td>Yes</td>\n",
       "      <td>Mailed check</td>\n",
       "      <td>84.80</td>\n",
       "      <td>1990.5</td>\n",
       "      <td>No</td>\n",
       "    </tr>\n",
       "    <tr>\n",
       "      <th>7039</th>\n",
       "      <td>2234-XADUH</td>\n",
       "      <td>Female</td>\n",
       "      <td>0</td>\n",
       "      <td>Yes</td>\n",
       "      <td>Yes</td>\n",
       "      <td>72</td>\n",
       "      <td>Yes</td>\n",
       "      <td>Yes</td>\n",
       "      <td>Fiber optic</td>\n",
       "      <td>No</td>\n",
       "      <td>...</td>\n",
       "      <td>Yes</td>\n",
       "      <td>No</td>\n",
       "      <td>Yes</td>\n",
       "      <td>Yes</td>\n",
       "      <td>One year</td>\n",
       "      <td>Yes</td>\n",
       "      <td>Credit card (automatic)</td>\n",
       "      <td>103.20</td>\n",
       "      <td>7362.9</td>\n",
       "      <td>No</td>\n",
       "    </tr>\n",
       "    <tr>\n",
       "      <th>7040</th>\n",
       "      <td>4801-JZAZL</td>\n",
       "      <td>Female</td>\n",
       "      <td>0</td>\n",
       "      <td>Yes</td>\n",
       "      <td>Yes</td>\n",
       "      <td>11</td>\n",
       "      <td>No</td>\n",
       "      <td>No phone service</td>\n",
       "      <td>DSL</td>\n",
       "      <td>Yes</td>\n",
       "      <td>...</td>\n",
       "      <td>No</td>\n",
       "      <td>No</td>\n",
       "      <td>No</td>\n",
       "      <td>No</td>\n",
       "      <td>Month-to-month</td>\n",
       "      <td>Yes</td>\n",
       "      <td>Electronic check</td>\n",
       "      <td>29.60</td>\n",
       "      <td>346.45</td>\n",
       "      <td>No</td>\n",
       "    </tr>\n",
       "    <tr>\n",
       "      <th>7041</th>\n",
       "      <td>8361-LTMKD</td>\n",
       "      <td>Male</td>\n",
       "      <td>1</td>\n",
       "      <td>Yes</td>\n",
       "      <td>No</td>\n",
       "      <td>4</td>\n",
       "      <td>Yes</td>\n",
       "      <td>Yes</td>\n",
       "      <td>Fiber optic</td>\n",
       "      <td>No</td>\n",
       "      <td>...</td>\n",
       "      <td>No</td>\n",
       "      <td>No</td>\n",
       "      <td>No</td>\n",
       "      <td>No</td>\n",
       "      <td>Month-to-month</td>\n",
       "      <td>Yes</td>\n",
       "      <td>Mailed check</td>\n",
       "      <td>74.40</td>\n",
       "      <td>306.6</td>\n",
       "      <td>Yes</td>\n",
       "    </tr>\n",
       "    <tr>\n",
       "      <th>7042</th>\n",
       "      <td>3186-AJIEK</td>\n",
       "      <td>Male</td>\n",
       "      <td>0</td>\n",
       "      <td>No</td>\n",
       "      <td>No</td>\n",
       "      <td>66</td>\n",
       "      <td>Yes</td>\n",
       "      <td>No</td>\n",
       "      <td>Fiber optic</td>\n",
       "      <td>Yes</td>\n",
       "      <td>...</td>\n",
       "      <td>Yes</td>\n",
       "      <td>Yes</td>\n",
       "      <td>Yes</td>\n",
       "      <td>Yes</td>\n",
       "      <td>Two year</td>\n",
       "      <td>Yes</td>\n",
       "      <td>Bank transfer (automatic)</td>\n",
       "      <td>105.65</td>\n",
       "      <td>6844.5</td>\n",
       "      <td>No</td>\n",
       "    </tr>\n",
       "  </tbody>\n",
       "</table>\n",
       "<p>7043 rows × 21 columns</p>\n",
       "</div>"
      ],
      "text/plain": [
       "      customerID  gender  SeniorCitizen Partner Dependents  tenure  \\\n",
       "0     7590-VHVEG  Female              0     Yes         No       1   \n",
       "1     5575-GNVDE    Male              0      No         No      34   \n",
       "2     3668-QPYBK    Male              0      No         No       2   \n",
       "3     7795-CFOCW    Male              0      No         No      45   \n",
       "4     9237-HQITU  Female              0      No         No       2   \n",
       "...          ...     ...            ...     ...        ...     ...   \n",
       "7038  6840-RESVB    Male              0     Yes        Yes      24   \n",
       "7039  2234-XADUH  Female              0     Yes        Yes      72   \n",
       "7040  4801-JZAZL  Female              0     Yes        Yes      11   \n",
       "7041  8361-LTMKD    Male              1     Yes         No       4   \n",
       "7042  3186-AJIEK    Male              0      No         No      66   \n",
       "\n",
       "     PhoneService     MultipleLines InternetService OnlineSecurity  ...  \\\n",
       "0              No  No phone service             DSL             No  ...   \n",
       "1             Yes                No             DSL            Yes  ...   \n",
       "2             Yes                No             DSL            Yes  ...   \n",
       "3              No  No phone service             DSL            Yes  ...   \n",
       "4             Yes                No     Fiber optic             No  ...   \n",
       "...           ...               ...             ...            ...  ...   \n",
       "7038          Yes               Yes             DSL            Yes  ...   \n",
       "7039          Yes               Yes     Fiber optic             No  ...   \n",
       "7040           No  No phone service             DSL            Yes  ...   \n",
       "7041          Yes               Yes     Fiber optic             No  ...   \n",
       "7042          Yes                No     Fiber optic            Yes  ...   \n",
       "\n",
       "     DeviceProtection TechSupport StreamingTV StreamingMovies        Contract  \\\n",
       "0                  No          No          No              No  Month-to-month   \n",
       "1                 Yes          No          No              No        One year   \n",
       "2                  No          No          No              No  Month-to-month   \n",
       "3                 Yes         Yes          No              No        One year   \n",
       "4                  No          No          No              No  Month-to-month   \n",
       "...               ...         ...         ...             ...             ...   \n",
       "7038              Yes         Yes         Yes             Yes        One year   \n",
       "7039              Yes          No         Yes             Yes        One year   \n",
       "7040               No          No          No              No  Month-to-month   \n",
       "7041               No          No          No              No  Month-to-month   \n",
       "7042              Yes         Yes         Yes             Yes        Two year   \n",
       "\n",
       "     PaperlessBilling              PaymentMethod MonthlyCharges  TotalCharges  \\\n",
       "0                 Yes           Electronic check          29.85         29.85   \n",
       "1                  No               Mailed check          56.95        1889.5   \n",
       "2                 Yes               Mailed check          53.85        108.15   \n",
       "3                  No  Bank transfer (automatic)          42.30       1840.75   \n",
       "4                 Yes           Electronic check          70.70        151.65   \n",
       "...               ...                        ...            ...           ...   \n",
       "7038              Yes               Mailed check          84.80        1990.5   \n",
       "7039              Yes    Credit card (automatic)         103.20        7362.9   \n",
       "7040              Yes           Electronic check          29.60        346.45   \n",
       "7041              Yes               Mailed check          74.40         306.6   \n",
       "7042              Yes  Bank transfer (automatic)         105.65        6844.5   \n",
       "\n",
       "     Churn  \n",
       "0       No  \n",
       "1       No  \n",
       "2      Yes  \n",
       "3       No  \n",
       "4      Yes  \n",
       "...    ...  \n",
       "7038    No  \n",
       "7039    No  \n",
       "7040    No  \n",
       "7041   Yes  \n",
       "7042    No  \n",
       "\n",
       "[7043 rows x 21 columns]"
      ]
     },
     "execution_count": 2,
     "metadata": {},
     "output_type": "execute_result"
    }
   ],
   "source": [
    "cc = pd.read_csv('Telecom_customer_churn.csv')\n",
    "cc"
   ]
  },
  {
   "cell_type": "markdown",
   "metadata": {},
   "source": [
    "There are 7043 rows and 21 columns in the dataset and most of the columns are categorical data and we have 3 columns as numerical data.\n",
    "\n",
    "We will check whether dataset is having null values or not."
   ]
  },
  {
   "cell_type": "markdown",
   "metadata": {},
   "source": [
    "The below given info() method describes the each column in a dataset and gives information about the non null count and index entries which is rows and column values,memory usage and thier datatypes."
   ]
  },
  {
   "cell_type": "code",
   "execution_count": 3,
   "metadata": {},
   "outputs": [
    {
     "name": "stdout",
     "output_type": "stream",
     "text": [
      "<class 'pandas.core.frame.DataFrame'>\n",
      "RangeIndex: 7043 entries, 0 to 7042\n",
      "Data columns (total 21 columns):\n",
      " #   Column            Non-Null Count  Dtype  \n",
      "---  ------            --------------  -----  \n",
      " 0   customerID        7043 non-null   object \n",
      " 1   gender            7043 non-null   object \n",
      " 2   SeniorCitizen     7043 non-null   int64  \n",
      " 3   Partner           7043 non-null   object \n",
      " 4   Dependents        7043 non-null   object \n",
      " 5   tenure            7043 non-null   int64  \n",
      " 6   PhoneService      7043 non-null   object \n",
      " 7   MultipleLines     7043 non-null   object \n",
      " 8   InternetService   7043 non-null   object \n",
      " 9   OnlineSecurity    7043 non-null   object \n",
      " 10  OnlineBackup      7043 non-null   object \n",
      " 11  DeviceProtection  7043 non-null   object \n",
      " 12  TechSupport       7043 non-null   object \n",
      " 13  StreamingTV       7043 non-null   object \n",
      " 14  StreamingMovies   7043 non-null   object \n",
      " 15  Contract          7043 non-null   object \n",
      " 16  PaperlessBilling  7043 non-null   object \n",
      " 17  PaymentMethod     7043 non-null   object \n",
      " 18  MonthlyCharges    7043 non-null   float64\n",
      " 19  TotalCharges      7043 non-null   object \n",
      " 20  Churn             7043 non-null   object \n",
      "dtypes: float64(1), int64(2), object(18)\n",
      "memory usage: 1.1+ MB\n"
     ]
    }
   ],
   "source": [
    "cc.info()"
   ]
  },
  {
   "cell_type": "markdown",
   "metadata": {},
   "source": [
    "Checking the null values present in dataset and luckily we don't have any null values in dataset and it's a good thing that data is almost cleaned.\n",
    "\n",
    "As we have categorical data's in our given dataset and our target variable is also a category variable (Yes / No) ,So our problem is Classification Problem(Binary)."
   ]
  },
  {
   "cell_type": "code",
   "execution_count": 4,
   "metadata": {},
   "outputs": [
    {
     "data": {
      "text/plain": [
       "customerID          0\n",
       "gender              0\n",
       "SeniorCitizen       0\n",
       "Partner             0\n",
       "Dependents          0\n",
       "tenure              0\n",
       "PhoneService        0\n",
       "MultipleLines       0\n",
       "InternetService     0\n",
       "OnlineSecurity      0\n",
       "OnlineBackup        0\n",
       "DeviceProtection    0\n",
       "TechSupport         0\n",
       "StreamingTV         0\n",
       "StreamingMovies     0\n",
       "Contract            0\n",
       "PaperlessBilling    0\n",
       "PaymentMethod       0\n",
       "MonthlyCharges      0\n",
       "TotalCharges        0\n",
       "Churn               0\n",
       "dtype: int64"
      ]
     },
     "execution_count": 4,
     "metadata": {},
     "output_type": "execute_result"
    }
   ],
   "source": [
    "cc.isnull().sum()"
   ]
  },
  {
   "cell_type": "markdown",
   "metadata": {},
   "source": [
    "So as almost all our columns in the dataset's are categorical data, We will look into the part of converting category into numerical in later part.\n",
    "\n",
    "Before going to that part, We should know that what kind of values present in our dataset to proceed for converting categorical to numerical.\n",
    "\n",
    "So Here I am using simple countplot to see how the data has been distributed.\n",
    "\n",
    "MonthlyCharges && TotalCharges && SeniorCitizen are numerical columns in our dataset.We will see about this as well"
   ]
  },
  {
   "cell_type": "code",
   "execution_count": 5,
   "metadata": {
    "scrolled": false
   },
   "outputs": [
    {
     "data": {
      "image/png": "[encoded data removed]",
      "text/plain": [
       "<Figure size 1440x1440 with 8 Axes>"
      ]
     },
     "metadata": {},
     "output_type": "display_data"
    }
   ],
   "source": [
    "sns.set_theme()\n",
    "plt.figure(figsize = (20,20))\n",
    "plt.subplot(4,2,1)\n",
    "sns.countplot(x = cc['gender'])\n",
    "plt.tight_layout()\n",
    "plt.subplot(4,2,2)\n",
    "sns.countplot(x = cc['SeniorCitizen'])\n",
    "plt.tight_layout()\n",
    "plt.subplot(4,2,3)\n",
    "sns.countplot(x = cc['Partner'])\n",
    "plt.tight_layout()\n",
    "plt.subplot(4,2,4)\n",
    "sns.countplot(x = cc['Dependents'])\n",
    "plt.tight_layout()\n",
    "plt.subplot(4,2,5)\n",
    "sns.countplot(x = cc['PhoneService'])\n",
    "plt.tight_layout()\n",
    "plt.subplot(4,2,6)\n",
    "sns.countplot(x = cc['MultipleLines'])\n",
    "plt.tight_layout()\n",
    "plt.subplot(4,2,7)\n",
    "sns.countplot(x = cc['InternetService'])\n",
    "plt.tight_layout()\n",
    "plt.subplot(4,2,8)\n",
    "sns.countplot(x = cc['OnlineSecurity'])\n",
    "plt.tight_layout()\n"
   ]
  },
  {
   "cell_type": "markdown",
   "metadata": {},
   "source": [
    "* We can see that GENDER has two values Yes or No and that shows that customer is a male /female.\n",
    "\n",
    "* SENIOR CITIZEN already has numerical value which is 1 or 0 that explains whether the customer is a sr.citizen or not\n",
    "\n",
    "* Column PARTNER has Yes or No which describes whether customer has partner or not.\n",
    "\n",
    "* DEPENDANTS - explains whether customer has any dependent or not and the values are Yes or No.\n",
    "\n",
    "* Customer has any PHONE SERVICVE or not that shows Yes or No.\n",
    "\n",
    "* Customer has MULTIPLE LINES or not and has values as Yes or No or No Internet services.\n",
    "\n",
    "* Same goes for PHONE SERVICE as well as it has DSL, Fiber Optic, No\n",
    "\n",
    "* Whether Customer has online security or not and it has Yes or No or No Internet services."
   ]
  },
  {
   "cell_type": "code",
   "execution_count": 6,
   "metadata": {},
   "outputs": [
    {
     "data": {
      "image/png": "[encoded data removed]",
      "text/plain": [
       "<Figure size 1440x1440 with 8 Axes>"
      ]
     },
     "metadata": {},
     "output_type": "display_data"
    }
   ],
   "source": [
    "plt.figure(figsize = (20,20))\n",
    "plt.subplot(4,2,1)\n",
    "sns.countplot(x = cc['OnlineBackup'])\n",
    "plt.tight_layout()\n",
    "plt.subplot(4,2,2)\n",
    "sns.countplot(x = cc['DeviceProtection'])\n",
    "plt.tight_layout()\n",
    "plt.subplot(4,2,3)\n",
    "sns.countplot(x = cc['TechSupport'])\n",
    "plt.tight_layout()\n",
    "plt.subplot(4,2,4)\n",
    "sns.countplot(x = cc['Contract'])\n",
    "plt.tight_layout()\n",
    "plt.subplot(4,2,5)\n",
    "sns.countplot(x = cc['PaperlessBilling'])\n",
    "plt.tight_layout()\n",
    "plt.subplot(4,2,6)\n",
    "sns.countplot(x = cc['PaymentMethod'])\n",
    "plt.tight_layout()\n",
    "plt.subplot(4,2,7)\n",
    "sns.countplot(x = cc['StreamingTV'])\n",
    "plt.tight_layout()\n",
    "plt.subplot(4,2,8)\n",
    "sns.countplot(x = cc['StreamingMovies'])\n",
    "plt.tight_layout()\n"
   ]
  },
  {
   "cell_type": "markdown",
   "metadata": {},
   "source": [
    "From the above plot,\n",
    "\n",
    "* OnlineBackup, StreamingMovies, StreamingTV,TechSupport , DeviceProtection has values of Yes, No, No Internet Service and the customers has either one of the values.\n",
    "\n",
    "* Other than that, PaperlessBilling explains that whether customer has paperless billing or not which is yes / No.\n",
    "\n",
    "* Also we have PaymentMethod which has options fopr customers to pay their bill through any one of the ways - Electronic check, mailed check, bank Transfer (automatic), Credit card(automatic)\n",
    "\n",
    "* Contract explains the time period for the customers with the company - Month-to-Month, One Year, Two Year.\n"
   ]
  },
  {
   "cell_type": "markdown",
   "metadata": {},
   "source": [
    "As we can see that TotalCharges has numerical values and I am converting the data types into numeric."
   ]
  },
  {
   "cell_type": "code",
   "execution_count": 7,
   "metadata": {},
   "outputs": [
    {
     "data": {
      "text/plain": [
       "20.2      11\n",
       "          11\n",
       "19.75      9\n",
       "19.9       8\n",
       "19.65      8\n",
       "          ..\n",
       "97.5       1\n",
       "811.65     1\n",
       "6841.3     1\n",
       "129.2      1\n",
       "1354.4     1\n",
       "Name: TotalCharges, Length: 6531, dtype: int64"
      ]
     },
     "execution_count": 7,
     "metadata": {},
     "output_type": "execute_result"
    }
   ],
   "source": [
    "cc['TotalCharges'].value_counts()"
   ]
  },
  {
   "cell_type": "code",
   "execution_count": 8,
   "metadata": {},
   "outputs": [],
   "source": [
    "cc['TotalCharges'] = pd.to_numeric(cc['TotalCharges'] , errors = 'coerce')"
   ]
  },
  {
   "cell_type": "code",
   "execution_count": 9,
   "metadata": {},
   "outputs": [
    {
     "data": {
      "text/plain": [
       "11"
      ]
     },
     "execution_count": 9,
     "metadata": {},
     "output_type": "execute_result"
    }
   ],
   "source": [
    "cc['TotalCharges'].isnull().sum()"
   ]
  },
  {
   "cell_type": "markdown",
   "metadata": {},
   "source": [
    "So after converting the data type from object to numeric, we are get7ting NAN values and I am going to replace this missing values into median/ mean."
   ]
  },
  {
   "cell_type": "code",
   "execution_count": 10,
   "metadata": {},
   "outputs": [],
   "source": [
    "cc['TotalCharges'] = cc['TotalCharges'].fillna(cc['TotalCharges'].median())"
   ]
  },
  {
   "cell_type": "code",
   "execution_count": 11,
   "metadata": {},
   "outputs": [
    {
     "data": {
      "text/plain": [
       "<AxesSubplot:xlabel='TotalCharges'>"
      ]
     },
     "execution_count": 11,
     "metadata": {},
     "output_type": "execute_result"
    },
    {
     "data": {
      "image/png": "[encoded data removed]",
      "text/plain": [
       "<Figure size 432x288 with 1 Axes>"
      ]
     },
     "metadata": {},
     "output_type": "display_data"
    }
   ],
   "source": [
    "sns.boxplot(cc['TotalCharges'])"
   ]
  },
  {
   "cell_type": "markdown",
   "metadata": {},
   "source": [
    "As from the above box plot, there is no outliers exist in TotalCharges column."
   ]
  },
  {
   "cell_type": "code",
   "execution_count": 12,
   "metadata": {},
   "outputs": [
    {
     "data": {
      "text/plain": [
       "0"
      ]
     },
     "execution_count": 12,
     "metadata": {},
     "output_type": "execute_result"
    }
   ],
   "source": [
    "cc['TotalCharges'].isnull().sum()"
   ]
  },
  {
   "cell_type": "markdown",
   "metadata": {},
   "source": [
    "So now the null values has been treated."
   ]
  },
  {
   "cell_type": "code",
   "execution_count": 13,
   "metadata": {},
   "outputs": [
    {
     "data": {
      "text/plain": [
       "<AxesSubplot:xlabel='MonthlyCharges'>"
      ]
     },
     "execution_count": 13,
     "metadata": {},
     "output_type": "execute_result"
    },
    {
     "data": {
      "image/png": "[encoded data removed]",
      "text/plain": [
       "<Figure size 432x288 with 1 Axes>"
      ]
     },
     "metadata": {},
     "output_type": "display_data"
    }
   ],
   "source": [
    "sns.boxplot(cc['MonthlyCharges'])"
   ]
  },
  {
   "cell_type": "markdown",
   "metadata": {},
   "source": [
    "MonthlyCharges is numerical and this is also good and doesn't have any outliers.So we are good at numerical columns in this dataset."
   ]
  },
  {
   "cell_type": "markdown",
   "metadata": {},
   "source": [
    "Let's check our target Variable and we can see that there is class im-balanced in our target variables.\n",
    "We will handle at the time of Splitting of X and Y varibles."
   ]
  },
  {
   "cell_type": "code",
   "execution_count": 14,
   "metadata": {},
   "outputs": [
    {
     "data": {
      "text/plain": [
       "No     5174\n",
       "Yes    1869\n",
       "Name: Churn, dtype: int64"
      ]
     },
     "execution_count": 14,
     "metadata": {},
     "output_type": "execute_result"
    }
   ],
   "source": [
    "cc['Churn'].value_counts()"
   ]
  },
  {
   "cell_type": "code",
   "execution_count": 15,
   "metadata": {},
   "outputs": [
    {
     "data": {
      "image/png": "[encoded data removed]",
      "text/plain": [
       "<Figure size 432x288 with 1 Axes>"
      ]
     },
     "metadata": {},
     "output_type": "display_data"
    }
   ],
   "source": [
    "sns.countplot(cc['Churn'])\n",
    "plt.tight_layout()\n",
    "plt.show()"
   ]
  },
  {
   "cell_type": "markdown",
   "metadata": {},
   "source": [
    "As I said earlier, We have more categorical varibales in the dataset, I am using replace() method to change YES && NO values into 1 && 0."
   ]
  },
  {
   "cell_type": "code",
   "execution_count": 16,
   "metadata": {},
   "outputs": [],
   "source": [
    "cc['gender'] = cc['gender'].replace({'Female':1, 'Male':0})\n",
    "cc['Partner'] = cc['Partner'].replace({'Yes':1, 'No':0})\n",
    "cc['Dependents'] = cc['Dependents'].replace({'Yes':1, 'No':0})\n",
    "cc['PhoneService'] = cc['PhoneService'].replace({'Yes':1, 'No':0})\n",
    "cc['PaperlessBilling'] = cc['PaperlessBilling'].replace({'Yes':1, 'No':0})\n",
    "cc['Churn'] = cc['Churn'].replace({'Yes':1, 'No':0})"
   ]
  },
  {
   "cell_type": "code",
   "execution_count": 17,
   "metadata": {},
   "outputs": [],
   "source": [
    "le = LabelEncoder()\n",
    "cols = ['MultipleLines','InternetService','OnlineSecurity','OnlineBackup','DeviceProtection','TechSupport','StreamingTV','StreamingMovies','Contract','PaymentMethod']\n",
    "for i in cols:\n",
    "    cc[cols] = cc[cols].apply(le.fit_transform)"
   ]
  },
  {
   "cell_type": "markdown",
   "metadata": {},
   "source": [
    "The categorical dats has been treated and we can see that through info() method,"
   ]
  },
  {
   "cell_type": "code",
   "execution_count": 18,
   "metadata": {},
   "outputs": [
    {
     "name": "stdout",
     "output_type": "stream",
     "text": [
      "<class 'pandas.core.frame.DataFrame'>\n",
      "RangeIndex: 7043 entries, 0 to 7042\n",
      "Data columns (total 21 columns):\n",
      " #   Column            Non-Null Count  Dtype  \n",
      "---  ------            --------------  -----  \n",
      " 0   customerID        7043 non-null   object \n",
      " 1   gender            7043 non-null   int64  \n",
      " 2   SeniorCitizen     7043 non-null   int64  \n",
      " 3   Partner           7043 non-null   int64  \n",
      " 4   Dependents        7043 non-null   int64  \n",
      " 5   tenure            7043 non-null   int64  \n",
      " 6   PhoneService      7043 non-null   int64  \n",
      " 7   MultipleLines     7043 non-null   int64  \n",
      " 8   InternetService   7043 non-null   int64  \n",
      " 9   OnlineSecurity    7043 non-null   int64  \n",
      " 10  OnlineBackup      7043 non-null   int64  \n",
      " 11  DeviceProtection  7043 non-null   int64  \n",
      " 12  TechSupport       7043 non-null   int64  \n",
      " 13  StreamingTV       7043 non-null   int64  \n",
      " 14  StreamingMovies   7043 non-null   int64  \n",
      " 15  Contract          7043 non-null   int64  \n",
      " 16  PaperlessBilling  7043 non-null   int64  \n",
      " 17  PaymentMethod     7043 non-null   int64  \n",
      " 18  MonthlyCharges    7043 non-null   float64\n",
      " 19  TotalCharges      7043 non-null   float64\n",
      " 20  Churn             7043 non-null   int64  \n",
      "dtypes: float64(2), int64(18), object(1)\n",
      "memory usage: 1.1+ MB\n"
     ]
    }
   ],
   "source": [
    "cc.info()\n"
   ]
  },
  {
   "cell_type": "markdown",
   "metadata": {},
   "source": [
    "Splitting x and y variables,\n",
    "\n",
    "I am dropping CustomerID as it won't have any effect on the dataset."
   ]
  },
  {
   "cell_type": "code",
   "execution_count": 19,
   "metadata": {},
   "outputs": [],
   "source": [
    "X = cc.drop(columns = ['customerID','Churn'],axis = 1)\n",
    "y = cc['Churn']"
   ]
  },
  {
   "cell_type": "markdown",
   "metadata": {},
   "source": [
    "As our target variables are im-balanced as discussed earlier, Using SMOTE () method to balance the classes."
   ]
  },
  {
   "cell_type": "code",
   "execution_count": 20,
   "metadata": {},
   "outputs": [],
   "source": [
    "from sklearn.utils import resample\n",
    "from imblearn.over_sampling import SMOTE\n",
    "\n",
    "sm = SMOTE()\n",
    "x_over,y_over = sm.fit_resample(X,y)"
   ]
  },
  {
   "cell_type": "markdown",
   "metadata": {},
   "source": [
    "Scaling the data as we have some numerical and catergorical data and has different ranges of values.So in - order to equalize the range, I am using Standard Scaler () method."
   ]
  },
  {
   "cell_type": "code",
   "execution_count": 21,
   "metadata": {},
   "outputs": [],
   "source": [
    "sca = StandardScaler()\n",
    "x = sca.fit_transform(x_over)"
   ]
  },
  {
   "cell_type": "markdown",
   "metadata": {},
   "source": [
    "Train Test Split"
   ]
  },
  {
   "cell_type": "code",
   "execution_count": 22,
   "metadata": {},
   "outputs": [],
   "source": [
    "x_train,x_test,y_train,y_test = train_test_split(x,y_over, test_size = 0.25, random_state = 111)"
   ]
  },
  {
   "cell_type": "markdown",
   "metadata": {},
   "source": [
    "So we have splitted the train and test dataset here and now we need to proceed for building the model and need to chose the best model based on accuracy.\n",
    "\n",
    "As the target variable is im-balanced, We need to go for F1-Score accuracy for choosing the best model.\n",
    "\n",
    "Apart from this, we are going to use cross validation score for all the model to check whether the the model is over fitting or under fitting."
   ]
  },
  {
   "cell_type": "markdown",
   "metadata": {},
   "source": [
    "Model 1: DECISION TREE CLASSIFIER"
   ]
  },
  {
   "cell_type": "code",
   "execution_count": 23,
   "metadata": {},
   "outputs": [
    {
     "name": "stdout",
     "output_type": "stream",
     "text": [
      "F1 score \n",
      " 0.7959106399091253\n",
      "CV Score of DT : 0.7831568845833246\n",
      "Accuracy score \n",
      " 0.7916505604947816\n",
      "-------------------------------------------------------\n",
      "\n",
      "Classification Report \n",
      "               precision    recall  f1-score   support\n",
      "\n",
      "           0       0.79      0.78      0.79      1276\n",
      "           1       0.79      0.80      0.80      1311\n",
      "\n",
      "    accuracy                           0.79      2587\n",
      "   macro avg       0.79      0.79      0.79      2587\n",
      "weighted avg       0.79      0.79      0.79      2587\n",
      "\n",
      "--------------------------------------------------------\n",
      "\n",
      "Confusion Matrix \n",
      " [[ 997  279]\n",
      " [ 260 1051]]\n",
      "ROC AUC Score \n",
      " 0.7915130353483544\n"
     ]
    }
   ],
   "source": [
    "from sklearn.tree import DecisionTreeClassifier\n",
    "\n",
    "\n",
    "dt = DecisionTreeClassifier()\n",
    "dt.fit(x_train,y_train)\n",
    "y_pred = dt.predict(x_test)\n",
    "scr_dt = cross_val_score(dt,x_over,y_over,cv=5)\n",
    "\n",
    "\n",
    "print(\"F1 score \\n\", f1_score(y_test,y_pred))\n",
    "print(\"CV Score of DT :\", scr_dt.mean())\n",
    "print(\"Accuracy score \\n\", accuracy_score(y_test,y_pred))\n",
    "print(\"-------------------------------------------------------\\n\")\n",
    "print(\"Classification Report \\n\", classification_report(y_test,y_pred))\n",
    "print(\"--------------------------------------------------------\\n\")\n",
    "print(\"Confusion Matrix \\n\", confusion_matrix(y_test,y_pred))\n",
    "print(\"ROC AUC Score \\n\", roc_auc_score(y_test,y_pred))"
   ]
  },
  {
   "cell_type": "markdown",
   "metadata": {},
   "source": [
    "Model 2: Logistic Regression"
   ]
  },
  {
   "cell_type": "code",
   "execution_count": 24,
   "metadata": {},
   "outputs": [
    {
     "name": "stdout",
     "output_type": "stream",
     "text": [
      "F1 score \n",
      " 0.8135964912280701\n",
      "CV Score of DT : 0.7889512775431199\n",
      "Accuracy score \n",
      " 0.8028604561267878\n",
      "-------------------------------------------------------\n",
      "\n",
      "Classification Report \n",
      "               precision    recall  f1-score   support\n",
      "\n",
      "           0       0.83      0.76      0.79      1276\n",
      "           1       0.78      0.85      0.81      1311\n",
      "\n",
      "    accuracy                           0.80      2587\n",
      "   macro avg       0.81      0.80      0.80      2587\n",
      "weighted avg       0.80      0.80      0.80      2587\n",
      "\n",
      "--------------------------------------------------------\n",
      "\n",
      "Confusion Matrix \n",
      " [[ 964  312]\n",
      " [ 198 1113]]\n",
      "ROC AUC Score \n",
      " 0.8022280725665876\n"
     ]
    }
   ],
   "source": [
    "from sklearn.linear_model import LogisticRegression\n",
    "\n",
    "lr = LogisticRegression()\n",
    "lr.fit(x_train,y_train)\n",
    "y_pred = lr.predict(x_test)\n",
    "scr_lr = cross_val_score(lr,x_over,y_over,cv=5)\n",
    "\n",
    "\n",
    "\n",
    "print(\"F1 score \\n\", f1_score(y_test,y_pred))\n",
    "print(\"CV Score of DT :\", scr_lr.mean())\n",
    "print(\"Accuracy score \\n\", accuracy_score(y_test,y_pred))\n",
    "print(\"-------------------------------------------------------\\n\")\n",
    "print(\"Classification Report \\n\", classification_report(y_test,y_pred))\n",
    "print(\"--------------------------------------------------------\\n\")\n",
    "print(\"Confusion Matrix \\n\", confusion_matrix(y_test,y_pred))\n",
    "print(\"ROC AUC Score \\n\", roc_auc_score(y_test,y_pred))"
   ]
  },
  {
   "cell_type": "markdown",
   "metadata": {},
   "source": [
    "Model 3: Random Forest Classifier"
   ]
  },
  {
   "cell_type": "code",
   "execution_count": 25,
   "metadata": {},
   "outputs": [
    {
     "name": "stdout",
     "output_type": "stream",
     "text": [
      "F1 score \n",
      " 0.8505833646970267\n",
      "CV Score of DT : 0.8382413030636284\n",
      "Accuracy score \n",
      " 0.8465403942790878\n",
      "-------------------------------------------------------\n",
      "\n",
      "Classification Report \n",
      "               precision    recall  f1-score   support\n",
      "\n",
      "           0       0.85      0.83      0.84      1276\n",
      "           1       0.84      0.86      0.85      1311\n",
      "\n",
      "    accuracy                           0.85      2587\n",
      "   macro avg       0.85      0.85      0.85      2587\n",
      "weighted avg       0.85      0.85      0.85      2587\n",
      "\n",
      "--------------------------------------------------------\n",
      "\n",
      "Confusion Matrix \n",
      " [[1060  216]\n",
      " [ 181 1130]]\n",
      "ROC AUC Score \n",
      " 0.8463292277306323\n"
     ]
    }
   ],
   "source": [
    "from sklearn.ensemble import RandomForestClassifier\n",
    "\n",
    "\n",
    "rfc = RandomForestClassifier()\n",
    "rfc.fit(x_train,y_train)\n",
    "y_pred = rfc.predict(x_test)\n",
    "scr_rfc = cross_val_score(rfc,x_over,y_over,cv=5)\n",
    "\n",
    "print(\"F1 score \\n\", f1_score(y_test,y_pred))\n",
    "print(\"CV Score of DT :\", scr_rfc.mean())\n",
    "print(\"Accuracy score \\n\", accuracy_score(y_test,y_pred))\n",
    "print(\"-------------------------------------------------------\\n\")\n",
    "print(\"Classification Report \\n\", classification_report(y_test,y_pred))\n",
    "print(\"--------------------------------------------------------\\n\")\n",
    "print(\"Confusion Matrix \\n\", confusion_matrix(y_test,y_pred))\n",
    "print(\"ROC AUC Score \\n\", roc_auc_score(y_test,y_pred))"
   ]
  },
  {
   "cell_type": "markdown",
   "metadata": {},
   "source": [
    "Model 4: K Neighbors Classifier"
   ]
  },
  {
   "cell_type": "code",
   "execution_count": 26,
   "metadata": {},
   "outputs": [
    {
     "name": "stdout",
     "output_type": "stream",
     "text": [
      "F1 score \n",
      " 0.8020086083213774\n",
      "CV Score of DT : 0.7817958219214864\n",
      "Accuracy score \n",
      " 0.7866254348666409\n",
      "-------------------------------------------------------\n",
      "\n",
      "Classification Report \n",
      "               precision    recall  f1-score   support\n",
      "\n",
      "           0       0.83      0.72      0.77      1276\n",
      "           1       0.76      0.85      0.80      1311\n",
      "\n",
      "    accuracy                           0.79      2587\n",
      "   macro avg       0.79      0.79      0.79      2587\n",
      "weighted avg       0.79      0.79      0.79      2587\n",
      "\n",
      "--------------------------------------------------------\n",
      "\n",
      "Confusion Matrix \n",
      " [[ 917  359]\n",
      " [ 193 1118]]\n",
      "ROC AUC Score \n",
      " 0.7857180859331101\n"
     ]
    }
   ],
   "source": [
    "from sklearn.neighbors import KNeighborsClassifier\n",
    "\n",
    "\n",
    "knc = KNeighborsClassifier(n_neighbors = 3)\n",
    "knc.fit(x_train,y_train)\n",
    "y_pred = knc.predict(x_test)\n",
    "scr_knc = cross_val_score(knc,x_over,y_over,cv=5)\n",
    "\n",
    "print(\"F1 score \\n\", f1_score(y_test,y_pred))\n",
    "print(\"CV Score of DT :\", scr_knc.mean())\n",
    "print(\"Accuracy score \\n\", accuracy_score(y_test,y_pred))\n",
    "print(\"-------------------------------------------------------\\n\")\n",
    "print(\"Classification Report \\n\", classification_report(y_test,y_pred))\n",
    "print(\"--------------------------------------------------------\\n\")\n",
    "print(\"Confusion Matrix \\n\", confusion_matrix(y_test,y_pred))\n",
    "print(\"ROC AUC Score \\n\", roc_auc_score(y_test,y_pred))"
   ]
  },
  {
   "cell_type": "markdown",
   "metadata": {},
   "source": [
    "Model 5: Ada Boost Classifier"
   ]
  },
  {
   "cell_type": "code",
   "execution_count": 27,
   "metadata": {},
   "outputs": [
    {
     "name": "stdout",
     "output_type": "stream",
     "text": [
      "F1 score \n",
      " 0.8255474452554744\n",
      "CV Score of DT : 0.8097299215705502\n",
      "Accuracy score \n",
      " 0.8152299961345187\n",
      "-------------------------------------------------------\n",
      "\n",
      "Classification Report \n",
      "               precision    recall  f1-score   support\n",
      "\n",
      "           0       0.84      0.77      0.80      1276\n",
      "           1       0.79      0.86      0.83      1311\n",
      "\n",
      "    accuracy                           0.82      2587\n",
      "   macro avg       0.82      0.81      0.81      2587\n",
      "weighted avg       0.82      0.82      0.81      2587\n",
      "\n",
      "--------------------------------------------------------\n",
      "\n",
      "Confusion Matrix \n",
      " [[ 978  298]\n",
      " [ 180 1131]]\n",
      "ROC AUC Score \n",
      " 0.8145789545418678\n"
     ]
    }
   ],
   "source": [
    "from sklearn.ensemble import AdaBoostClassifier\n",
    "\n",
    "\n",
    "abc = AdaBoostClassifier()\n",
    "abc.fit(x_train,y_train)\n",
    "y_pred = abc.predict(x_test) \n",
    "scr_abc = cross_val_score(abc,x_over,y_over,cv=5)\n",
    "\n",
    "print(\"F1 score \\n\", f1_score(y_test,y_pred))\n",
    "print(\"CV Score of DT :\", scr_abc.mean())\n",
    "print(\"Accuracy score \\n\", accuracy_score(y_test,y_pred))\n",
    "print(\"-------------------------------------------------------\\n\")\n",
    "print(\"Classification Report \\n\", classification_report(y_test,y_pred))\n",
    "print(\"--------------------------------------------------------\\n\")\n",
    "print(\"Confusion Matrix \\n\", confusion_matrix(y_test,y_pred))\n",
    "print(\"ROC AUC Score \\n\", roc_auc_score(y_test,y_pred))"
   ]
  },
  {
   "cell_type": "markdown",
   "metadata": {},
   "source": [
    "As per the cv score and f1 score difference,the model with less difference is considered as best model and we will be applying hyper parameter tuning to check the accuracy of score to get improve."
   ]
  },
  {
   "cell_type": "markdown",
   "metadata": {},
   "source": [
    "SO here DECISION TREE model is considered as best model."
   ]
  },
  {
   "cell_type": "markdown",
   "metadata": {},
   "source": [
    "ROC AUC CURVE for all Models-"
   ]
  },
  {
   "cell_type": "code",
   "execution_count": 28,
   "metadata": {},
   "outputs": [
    {
     "data": {
      "image/png": "[encoded data removed]",
      "text/plain": [
       "<Figure size 432x288 with 1 Axes>"
      ]
     },
     "metadata": {},
     "output_type": "display_data"
    }
   ],
   "source": [
    "y_pred_prob1 = dt.predict(x_test)\n",
    "fpr1 , tpr1, thresholds1 = roc_curve(y_test, y_pred_prob1)\n",
    "\n",
    "y_pred_prob2 = lr.predict(x_test)\n",
    "fpr2 , tpr2, thresholds2 = roc_curve(y_test, y_pred_prob2)\n",
    "\n",
    "\n",
    "y_pred_prob3 = rfc.predict(x_test)\n",
    "fpr3 , tpr3, thresholds3 = roc_curve(y_test, y_pred_prob3)\n",
    "\n",
    "y_pred_prob4 = knc.predict(x_test)\n",
    "fpr4 , tpr4, thresholds4 = roc_curve(y_test, y_pred_prob4)\n",
    "\n",
    "y_pred_prob5 = abc.predict(x_test)\n",
    "fpr5 , tpr5, thresholds5 = roc_curve(y_test, y_pred_prob5)\n",
    "\n",
    "\n",
    "\n",
    "plt.plot([0,1],[0,1], 'k--')\n",
    "plt.plot(fpr1, tpr1, label= \"Decision Tree\")\n",
    "plt.plot(fpr2, tpr2, label= \"Logistic Regression\")\n",
    "plt.plot(fpr3, tpr3, label= \"Random Forest\")\n",
    "plt.plot(fpr4, tpr4, label= \"K Neighbors\")\n",
    "plt.plot(fpr5, tpr5, label= \"Ada Boost\")\n",
    "plt.legend()\n",
    "plt.xlabel(\"FalsePositiveRate\")\n",
    "plt.ylabel(\"TruePositiveRate\")\n",
    "plt.title('Receiver Operating Characteristic')\n",
    "plt.show()"
   ]
  },
  {
   "cell_type": "markdown",
   "metadata": {},
   "source": [
    "Applying Hyper Parameter Tuning,"
   ]
  },
  {
   "cell_type": "code",
   "execution_count": 29,
   "metadata": {},
   "outputs": [],
   "source": [
    "param = {'criterion' : ['gini','entropy'] ,\n",
    "         'splitter': ['best','random'], \n",
    "         'max_depth':[10,12,14,16,18,20,22,25],\n",
    "         'random_state' : [None],\n",
    "         'max_leaf_nodes': [10,12,14,16,18],\n",
    "         'min_samples_leaf':[2,4,6,8,10,12],\n",
    "                   }"
   ]
  },
  {
   "cell_type": "code",
   "execution_count": 31,
   "metadata": {},
   "outputs": [],
   "source": [
    "grid = GridSearchCV(dt,param_grid = param, cv= 5)"
   ]
  },
  {
   "cell_type": "code",
   "execution_count": 32,
   "metadata": {},
   "outputs": [
    {
     "data": {
      "text/plain": [
       "GridSearchCV(cv=5, estimator=DecisionTreeClassifier(),\n",
       "             param_grid={'criterion': ['gini', 'entropy'],\n",
       "                         'max_depth': [10, 12, 14, 16, 18, 20, 22, 25],\n",
       "                         'max_leaf_nodes': [10, 12, 14, 16, 18],\n",
       "                         'min_samples_leaf': [2, 4, 6, 8, 10, 12],\n",
       "                         'random_state': [None],\n",
       "                         'splitter': ['best', 'random']})"
      ]
     },
     "execution_count": 32,
     "metadata": {},
     "output_type": "execute_result"
    }
   ],
   "source": [
    "grid.fit(x_train,y_train)"
   ]
  },
  {
   "cell_type": "code",
   "execution_count": 33,
   "metadata": {},
   "outputs": [
    {
     "data": {
      "text/plain": [
       "{'criterion': 'gini',\n",
       " 'max_depth': 10,\n",
       " 'max_leaf_nodes': 18,\n",
       " 'min_samples_leaf': 2,\n",
       " 'random_state': None,\n",
       " 'splitter': 'best'}"
      ]
     },
     "execution_count": 33,
     "metadata": {},
     "output_type": "execute_result"
    }
   ],
   "source": [
    "grid.best_params_"
   ]
  },
  {
   "cell_type": "code",
   "execution_count": 36,
   "metadata": {},
   "outputs": [
    {
     "name": "stdout",
     "output_type": "stream",
     "text": [
      "F1 score \n",
      " 0.806122448979592\n",
      "Accuracy score \n",
      " 0.8090452261306532\n",
      "-------------------------------------------------------\n",
      "\n",
      "Classification Report \n",
      "               precision    recall  f1-score   support\n",
      "\n",
      "           0       0.79      0.84      0.81      1276\n",
      "           1       0.83      0.78      0.81      1311\n",
      "\n",
      "    accuracy                           0.81      2587\n",
      "   macro avg       0.81      0.81      0.81      2587\n",
      "weighted avg       0.81      0.81      0.81      2587\n",
      "\n",
      "--------------------------------------------------------\n",
      "\n",
      "Confusion Matrix \n",
      " [[1066  210]\n",
      " [ 284 1027]]\n",
      "ROC AUC Score \n",
      " 0.8093973348254103\n"
     ]
    }
   ],
   "source": [
    "final = DecisionTreeClassifier(criterion = 'gini',max_depth = 10,max_leaf_nodes = 18, min_samples_leaf=2, random_state= None, splitter='best'  )\n",
    "final.fit(x_train,y_train)\n",
    "y_pred = final.predict(x_test)\n",
    "\n",
    "\n",
    "print(\"F1 score \\n\", f1_score(y_test,y_pred))\n",
    "print(\"Accuracy score \\n\", accuracy_score(y_test,y_pred))\n",
    "print(\"-------------------------------------------------------\\n\")\n",
    "print(\"Classification Report \\n\", classification_report(y_test,y_pred))\n",
    "print(\"--------------------------------------------------------\\n\")\n",
    "print(\"Confusion Matrix \\n\", confusion_matrix(y_test,y_pred))\n",
    "print(\"ROC AUC Score \\n\", roc_auc_score(y_test,y_pred))"
   ]
  },
  {
   "cell_type": "markdown",
   "metadata": {},
   "source": [
    "So our model has increased the accuracy from 78 to 81 %.If we change the parameter and its values, we will achieve with good accuracy."
   ]
  },
  {
   "cell_type": "markdown",
   "metadata": {},
   "source": [
    "ROC CURVE for final model"
   ]
  },
  {
   "cell_type": "code",
   "execution_count": 37,
   "metadata": {},
   "outputs": [
    {
     "data": {
      "image/png": "[encoded data removed]",
      "text/plain": [
       "<Figure size 432x288 with 1 Axes>"
      ]
     },
     "metadata": {},
     "output_type": "display_data"
    }
   ],
   "source": [
    "y_pred_fin = final.predict(x_test)\n",
    "fpr , tpr, thresholds = roc_curve(y_test, y_pred_fin)\n",
    "\n",
    "\n",
    "\n",
    "\n",
    "plt.plot([0,1],[0,1], 'k--')\n",
    "plt.plot(fpr1, tpr1, label= \"Final Decision Tree Model\")\n",
    "plt.legend()\n",
    "plt.xlabel(\"FalsePositiveRate\")\n",
    "plt.ylabel(\"TruePositiveRate\")\n",
    "plt.title('Receiver Operating Characteristic')\n",
    "plt.show()"
   ]
  },
  {
   "cell_type": "markdown",
   "metadata": {},
   "source": [
    "Saving the model .pkl file"
   ]
  },
  {
   "cell_type": "code",
   "execution_count": 38,
   "metadata": {},
   "outputs": [
    {
     "data": {
      "text/plain": [
       "['Customer_churn.pkl']"
      ]
     },
     "execution_count": 38,
     "metadata": {},
     "output_type": "execute_result"
    }
   ],
   "source": [
    "import joblib\n",
    "joblib.dump(final,\"Customer_churn.pkl\")"
   ]
  }
 ],
 "metadata": {
  "kernelspec": {
   "display_name": "Python 3",
   "language": "python",
   "name": "python3"
  },
  "language_info": {
   "codemirror_mode": {
    "name": "ipython",
    "version": 3
   },
   "file_extension": ".py",
   "mimetype": "text/x-python",
   "name": "python",
   "nbconvert_exporter": "python",
   "pygments_lexer": "ipython3",
   "version": "3.8.5"
  }
 },
 "nbformat": 4,
 "nbformat_minor": 4
}
